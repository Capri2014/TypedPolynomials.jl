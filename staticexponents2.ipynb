{
 "cells": [
  {
   "cell_type": "code",
   "execution_count": 16,
   "metadata": {
    "collapsed": true
   },
   "outputs": [],
   "source": [
    "using Base.Test\n",
    "using BenchmarkTools"
   ]
  },
  {
   "cell_type": "code",
   "execution_count": 2,
   "metadata": {
    "collapsed": true
   },
   "outputs": [],
   "source": [
    "import TypedPolynomials"
   ]
  },
  {
   "cell_type": "code",
   "execution_count": 77,
   "metadata": {
    "collapsed": false
   },
   "outputs": [
    {
     "name": "stderr",
     "output_type": "stream",
     "text": [
      "WARNING: replacing module TypedPolynomials\n"
     ]
    },
    {
     "data": {
      "text/plain": [
       "TypedPolynomials"
      ]
     },
     "execution_count": 77,
     "metadata": {},
     "output_type": "execute_result"
    }
   ],
   "source": [
    "reload(\"TypedPolynomials\")\n",
    "t = TypedPolynomials"
   ]
  },
  {
   "cell_type": "code",
   "execution_count": 95,
   "metadata": {
    "collapsed": false
   },
   "outputs": [
    {
     "name": "stdout",
     "output_type": "stream",
     "text": [
      "\u001b[1m\u001b[37mTest Summary: | \u001b[39m\u001b[22m\u001b[1m\u001b[32mPass  \u001b[39m\u001b[22m\u001b[1m\u001b[36mTotal\u001b[39m\u001b[22m\n",
      "variables     | \u001b[32m   5  \u001b[39m\u001b[36m    5\u001b[39m\n",
      "\u001b[1m\u001b[37mTest Summary: | \u001b[39m\u001b[22m"
     ]
    },
    {
     "name": "stderr",
     "output_type": "stream",
     "text": [
      "WARNING: replacing module sp\n"
     ]
    },
    {
     "name": "stdout",
     "output_type": "stream",
     "text": [
      "\u001b[1m\u001b[32mPass  \u001b[39m\u001b[22m\u001b[1m\u001b[36mTotal\u001b[39m\u001b[22m\n",
      "orderings     | \u001b[32m   2  \u001b[39m\u001b[36m    2\u001b[39m\n",
      "\u001b[1m\u001b[37mTest Summary: | \u001b[39m\u001b[22m\u001b[1m\u001b[32mPass  \u001b[39m\u001b[22m\u001b[1m\u001b[36mTotal\u001b[39m\u001b[22m\n",
      "monomials     | \u001b[32m   4  \u001b[39m\u001b[36m    4\u001b[39m\n"
     ]
    },
    {
     "data": {
      "text/plain": [
       "z"
      ]
     },
     "execution_count": 95,
     "metadata": {},
     "output_type": "execute_result"
    }
   ],
   "source": [
    "module sp\n",
    "\n",
    "using TypedPolynomials: mergesorted\n",
    "import TypedPolynomials: AbstractVariable,\n",
    "    AbstractMonomial,\n",
    "    AbstractTerm,\n",
    "    AbstractPolynomial,\n",
    "    name,\n",
    "    exponents,\n",
    "    exponent,\n",
    "    variables\n",
    "\n",
    "import Base: literal_pow, +, -, *, /, ==, isless,\n",
    "copy, promote_rule, convert\n",
    "\n",
    "export @polyvar,\n",
    "       Variable,\n",
    "       Monomial,\n",
    "       Term,\n",
    "       Polynomial,\n",
    "       name,\n",
    "       exponents,\n",
    "       variables,\n",
    "       coefficient,\n",
    "       monomial,\n",
    "       terms,\n",
    "       degree,\n",
    "       subs\n",
    "\n",
    "struct Variable{Name} <: AbstractVariable\n",
    "end\n",
    "\n",
    "copy(v::Variable) = v\n",
    "\n",
    "name(v::Variable{Name}) where {Name} = Name\n",
    "\n",
    "macro polyvar(names...)\n",
    "    exprs = [\n",
    "        quote\n",
    "            $(esc(name)) = Variable{$(esc(Expr(:quote, name)))}()\n",
    "        end\n",
    "        for name in names\n",
    "    ]\n",
    "    Expr(:block, exprs...)\n",
    "end\n",
    "\n",
    "struct Power{Var, Exponent}\n",
    "    function Power{V, E}() where {V, E}\n",
    "        new{typeassert(V, Variable), typeassert(E, Int)}()\n",
    "    end\n",
    "end\n",
    "\n",
    "variable(p::Power{V}) where {V} = V\n",
    "exponent(p::Power{V, E}) where {V, E} = E\n",
    "\n",
    "struct Monomial{Powers} <: AbstractMonomial\n",
    "    function Monomial{P}() where {P}\n",
    "        new{typeassert(P, Tuple{Vararg{Power}})}()\n",
    "    end\n",
    "end\n",
    "\n",
    "variables(m::Monomial{Powers}) where {Powers} = variable.(Powers)\n",
    "exponents(m::Monomial{Powers}) where {Powers} = exponent.(Powers)\n",
    "powers(::Type{Monomial{Powers}}) where {Powers} = Powers\n",
    "powers(m::Monomial) = powers(typeof(m))\n",
    "\n",
    "struct Term{M <: Monomial, T} <: AbstractTerm\n",
    "    coefficient::T\n",
    "end\n",
    "\n",
    "struct Polynomial{Terms <: Tuple{Vararg{Term}}}\n",
    "    terms::Terms\n",
    "end\n",
    "\n",
    "function literal_pow(^, v::V, ::Type{Val{x}}) where {V <: Variable, x}\n",
    "    Monomial{(Power{v, x}(),)}()\n",
    "end\n",
    "\n",
    "const MonomialLike = Union{<:Variable, <:Monomial}\n",
    "const TermLike = Union{<:MonomialLike, <:Term}\n",
    "const PolynomialLike = Union{<:TermLike, <:Polynomial}\n",
    "\n",
    "promote_rule(::Type{<:Variable}, ::Type{<:Variable}) = Monomial\n",
    "promote_rule(::Type{<:Variable}, ::Type{<:Monomial}) = Monomial\n",
    "\n",
    "convert(::Type{Monomial}, v::Variable) = Monomial{(Power{v, 1}(),)}()\n",
    "\n",
    "\n",
    "(*)(v1::V, v2::V) where {V <: Variable} = Monomial{(Power{v1, 2}(),)}()\n",
    "@generated function (*)(::Power{V, E1}, ::Power{V, E2}) where {V, E1, E2}\n",
    "    :(Power{V, $(E1 + E2)}())\n",
    "end\n",
    "@generated function (*)(m1::Monomial, m2::Monomial)\n",
    "    newpowers = mergesorted(\n",
    "        collect(powers(m1)), \n",
    "        collect(powers(m2)), \n",
    "        (p1, p2) -> name(variable(p1)) < name(variable(p2)), \n",
    "        *)\n",
    "    :(Monomial{$(Tuple(newpowers))}())\n",
    "end     \n",
    "\n",
    "for op in [:+, :*, :-, :(==)]\n",
    "    @eval $op(p1::PolynomialLike, p2::PolynomialLike) = $op(promote(p1, p2)...)\n",
    "    @eval $op(p::PolynomialLike, x) = $op(promote(p, x)...)\n",
    "    @eval $op(x, p::PolynomialLike) = $op(promote(x, p)...)\n",
    "end\n",
    "\n",
    "(==)(v1::V, v2::V) where {V <: Variable} = true\n",
    "(==)(v1::Variable, v2::Variable) = false\n",
    "function (==)(m1::Monomial, m2::Monomial)\n",
    "    v1 = variables(m1)\n",
    "    e1 = exponents(m1)\n",
    "    v2 = variables(m2)\n",
    "    e2 = exponents(m2)\n",
    "    i1 = 1\n",
    "    i2 = 1\n",
    "    while true\n",
    "        while i1 <= length(e1) && e1[i1] == 0\n",
    "            i1 += 1\n",
    "        end\n",
    "        while i2 <= length(e2) && e2[i2] == 0\n",
    "            i2 += 1\n",
    "        end\n",
    "        if i1 > length(e1) && i2 > length(e1)\n",
    "            return true\n",
    "        elseif i1 > length(e1) || i2 > length(e2)\n",
    "            return false\n",
    "        elseif v1[i1] != v2[i2]\n",
    "            return false\n",
    "        elseif e1[i1] != e2[i2]\n",
    "            return false\n",
    "        else\n",
    "            i1 += 1\n",
    "            i2 += 1\n",
    "        end\n",
    "    end\n",
    "end\n",
    "\n",
    "\n",
    "\n",
    "module tests\n",
    "\n",
    "using Base.Test\n",
    "using sp\n",
    "using sp: Power\n",
    "\n",
    "macro wrappedallocs(expr)\n",
    "    @assert expr.head == :call\n",
    "    f = expr.args[1]\n",
    "    args = expr.args[2:end]\n",
    "    argnames = [gensym() for a in args]\n",
    "    quote\n",
    "        function g($(argnames...))\n",
    "            @allocated $(Expr(:call, esc(f), argnames...))\n",
    "        end\n",
    "        $(Expr(:call, :g, [esc(a) for a in args]...))\n",
    "    end\n",
    "end\n",
    "\n",
    "\n",
    "@testset \"variables\" begin\n",
    "    @polyvar x y\n",
    "    \n",
    "    @test x * x == x^2\n",
    "    @test x^1 == x\n",
    "#     @test x^0 == 1\n",
    "    @test (@wrappedallocs x * x) == 0\n",
    "    @test (@wrappedallocs x^2) == 0\n",
    "    @test (@wrappedallocs x^1) == 0\n",
    "#     @test (@wrappedallocs x^0) == 0 \n",
    "end\n",
    "\n",
    "@testset \"orderings\" begin\n",
    "    @polyvar x y z\n",
    "    \n",
    "#     @test Monomial(y) < Monomial(x)\n",
    "#     @test Monomial(x) > Monomial(y)\n",
    "#     @test Monomial(y) < x\n",
    "#     @test y < Monomial(x)\n",
    "    @test y < x\n",
    "    @test x > y\n",
    "#     @test x > Monomial(y)\n",
    "#     @test Monomial(x) > y\n",
    "end\n",
    "\n",
    "@testset \"monomials\" begin\n",
    "    @polyvar x y z\n",
    "    \n",
    "    @test typeof(@inferred x * x) == Monomial{(Power{x, 2}(),)}\n",
    "    @test typeof(@inferred x * y) == Monomial{(Power{x, 1}(), Power{y, 1}())}\n",
    "    @test typeof(@inferred y * x) == Monomial{(Power{x, 1}(), Power{y, 1}())}\n",
    "    @test typeof(@inferred x * z * y) == Monomial{(Power{x, 1}(), Power{y, 1}(), Power{z, 1}())}\n",
    "end\n",
    "\n",
    "end\n",
    "\n",
    "end\n",
    "\n",
    "sp.@polyvar x y z"
   ]
  },
  {
   "cell_type": "code",
   "execution_count": 92,
   "metadata": {
    "collapsed": false
   },
   "outputs": [
    {
     "data": {
      "text/plain": [
       "x"
      ]
     },
     "execution_count": 92,
     "metadata": {},
     "output_type": "execute_result"
    }
   ],
   "source": [
    "sp.Monomial(x)"
   ]
  },
  {
   "cell_type": "code",
   "execution_count": 94,
   "metadata": {
    "collapsed": false
   },
   "outputs": [
    {
     "data": {
      "text/plain": [
       "2-element Array{sp.Monomial,1}:\n",
       " x\n",
       " y"
      ]
     },
     "execution_count": 94,
     "metadata": {},
     "output_type": "execute_result"
    }
   ],
   "source": [
    "[x, y]"
   ]
  },
  {
   "cell_type": "code",
   "execution_count": 90,
   "metadata": {
    "collapsed": false
   },
   "outputs": [
    {
     "data": {
      "text/plain": [
       "xyz"
      ]
     },
     "execution_count": 90,
     "metadata": {},
     "output_type": "execute_result"
    }
   ],
   "source": [
    "x * y * z"
   ]
  },
  {
   "cell_type": "code",
   "execution_count": 87,
   "metadata": {
    "collapsed": false
   },
   "outputs": [
    {
     "data": {
      "text/plain": [
       "sp.Monomial{(sp.Power{x,1}(), sp.Power{y,1}())}"
      ]
     },
     "execution_count": 87,
     "metadata": {},
     "output_type": "execute_result"
    }
   ],
   "source": [
    "typeof(x*y)"
   ]
  },
  {
   "cell_type": "code",
   "execution_count": 73,
   "metadata": {
    "collapsed": false
   },
   "outputs": [
    {
     "data": {
      "text/plain": [
       "x^2"
      ]
     },
     "execution_count": 73,
     "metadata": {},
     "output_type": "execute_result"
    }
   ],
   "source": [
    "x * x"
   ]
  },
  {
   "cell_type": "code",
   "execution_count": 143,
   "metadata": {
    "collapsed": false
   },
   "outputs": [
    {
     "data": {
      "text/plain": [
       "x^2"
      ]
     },
     "execution_count": 143,
     "metadata": {},
     "output_type": "execute_result"
    }
   ],
   "source": [
    "x^2"
   ]
  },
  {
   "cell_type": "code",
   "execution_count": 144,
   "metadata": {
    "collapsed": false
   },
   "outputs": [
    {
     "data": {
      "text/plain": [
       "BenchmarkTools.Trial: \n",
       "  memory estimate:  0 bytes\n",
       "  allocs estimate:  0\n",
       "  --------------\n",
       "  minimum time:     0.023 ns (0.00% GC)\n",
       "  median time:      0.037 ns (0.00% GC)\n",
       "  mean time:        0.043 ns (0.00% GC)\n",
       "  maximum time:     0.543 ns (0.00% GC)\n",
       "  --------------\n",
       "  samples:          10000\n",
       "  evals/sample:     1000\n",
       "  time tolerance:   5.00%\n",
       "  memory tolerance: 1.00%"
      ]
     },
     "execution_count": 144,
     "metadata": {},
     "output_type": "execute_result"
    }
   ],
   "source": [
    "@benchmark $x * $x"
   ]
  },
  {
   "cell_type": "code",
   "execution_count": 137,
   "metadata": {
    "collapsed": false
   },
   "outputs": [
    {
     "data": {
      "text/plain": [
       "sp.Monomial{(sp.Power{x,2}(),)}"
      ]
     },
     "execution_count": 137,
     "metadata": {},
     "output_type": "execute_result"
    }
   ],
   "source": [
    "typeof(x^2)"
   ]
  },
  {
   "cell_type": "code",
   "execution_count": 138,
   "metadata": {
    "collapsed": false
   },
   "outputs": [
    {
     "name": "stdout",
     "output_type": "stream",
     "text": [
      "Variables:\n",
      "  #self#::Base.#literal_pow\n",
      "  ^::Base.#^\n",
      "  v::sp.Variable{:x}\n",
      "  #unused#\u001b[1m\u001b[91m::Any\u001b[39m\u001b[22m\n",
      "\n",
      "Body:\n",
      "  begin \n",
      "      return $(QuoteNode(x^2))\n",
      "  end::sp.Monomial{(sp.Power{x,2}(),)}\n"
     ]
    }
   ],
   "source": [
    "@eval @code_warntype $(expand(:(x^2)))"
   ]
  },
  {
   "cell_type": "code",
   "execution_count": 139,
   "metadata": {
    "collapsed": false
   },
   "outputs": [
    {
     "data": {
      "text/plain": [
       "BenchmarkTools.Trial: \n",
       "  memory estimate:  0 bytes\n",
       "  allocs estimate:  0\n",
       "  --------------\n",
       "  minimum time:     0.024 ns (0.00% GC)\n",
       "  median time:      0.036 ns (0.00% GC)\n",
       "  mean time:        0.042 ns (0.00% GC)\n",
       "  maximum time:     0.185 ns (0.00% GC)\n",
       "  --------------\n",
       "  samples:          10000\n",
       "  evals/sample:     1000\n",
       "  time tolerance:   5.00%\n",
       "  memory tolerance: 1.00%"
      ]
     },
     "execution_count": 139,
     "metadata": {},
     "output_type": "execute_result"
    }
   ],
   "source": [
    "@benchmark $x^2"
   ]
  },
  {
   "cell_type": "code",
   "execution_count": 71,
   "metadata": {
    "collapsed": false
   },
   "outputs": [
    {
     "data": {
      "text/plain": [
       "x^2"
      ]
     },
     "execution_count": 71,
     "metadata": {},
     "output_type": "execute_result"
    }
   ],
   "source": [
    "x^2"
   ]
  },
  {
   "cell_type": "code",
   "execution_count": 43,
   "metadata": {
    "collapsed": false
   },
   "outputs": [
    {
     "data": {
      "text/plain": [
       "sp.Monomial{(sp.Power{sp.Variable{:x}}(2),)}"
      ]
     },
     "execution_count": 43,
     "metadata": {},
     "output_type": "execute_result"
    }
   ],
   "source": [
    "typeof(m)"
   ]
  },
  {
   "cell_type": "code",
   "execution_count": 44,
   "metadata": {
    "collapsed": false
   },
   "outputs": [
    {
     "name": "stdout",
     "output_type": "stream",
     "text": [
      "Variables:\n",
      "  #self#::TypedPolynomials.#exponents\n",
      "  m::sp.Monomial{(sp.Power{sp.Variable{:x}}(2),)}\n",
      "\n",
      "Body:\n",
      "  begin \n",
      "      return (Core.tuple)((Core.getfield)((Base.getfield)($(Expr(:static_parameter, 1)), 1)::sp.Power{sp.Variable{:x}}, :exponent)::Int64)::Tuple{Int64}\n",
      "  end::Tuple{Int64}\n"
     ]
    }
   ],
   "source": [
    "@code_warntype sp.exponents(m)"
   ]
  },
  {
   "cell_type": "code",
   "execution_count": 45,
   "metadata": {
    "collapsed": false
   },
   "outputs": [
    {
     "data": {
      "text/plain": [
       "BenchmarkTools.Trial: \n",
       "  memory estimate:  0 bytes\n",
       "  allocs estimate:  0\n",
       "  --------------\n",
       "  minimum time:     0.037 ns (0.00% GC)\n",
       "  median time:      0.040 ns (0.00% GC)\n",
       "  mean time:        0.049 ns (0.00% GC)\n",
       "  maximum time:     8.393 ns (0.00% GC)\n",
       "  --------------\n",
       "  samples:          10000\n",
       "  evals/sample:     1000\n",
       "  time tolerance:   5.00%\n",
       "  memory tolerance: 1.00%"
      ]
     },
     "execution_count": 45,
     "metadata": {},
     "output_type": "execute_result"
    }
   ],
   "source": [
    "@benchmark sp.variables($m)"
   ]
  },
  {
   "cell_type": "code",
   "execution_count": 46,
   "metadata": {
    "collapsed": false
   },
   "outputs": [
    {
     "data": {
      "text/plain": [
       "(x,)"
      ]
     },
     "execution_count": 46,
     "metadata": {},
     "output_type": "execute_result"
    }
   ],
   "source": [
    "sp.variables(m)"
   ]
  },
  {
   "cell_type": "code",
   "execution_count": 16,
   "metadata": {
    "collapsed": false
   },
   "outputs": [
    {
     "data": {
      "text/html": [
       "name(::<b>TypedPolynomials.AbstractVariable</b>) at <a href=\"https://github.com/rdeits/TypedPolynomials.jl/tree/3dac01f3df413302724d8c0f054ae5590094210f//src/abstracttypes.jl#L6\" target=\"_blank\">/Users/rdeits/.julia/v0.6/TypedPolynomials/src/abstracttypes.jl:6</a>"
      ],
      "text/plain": [
       "name(::TypedPolynomials.AbstractVariable) in TypedPolynomials at /Users/rdeits/.julia/v0.6/TypedPolynomials/src/abstracttypes.jl:6"
      ]
     },
     "execution_count": 16,
     "metadata": {},
     "output_type": "execute_result"
    }
   ],
   "source": [
    "@which t.name(x)"
   ]
  },
  {
   "cell_type": "code",
   "execution_count": 9,
   "metadata": {
    "collapsed": false
   },
   "outputs": [
    {
     "ename": "LoadError",
     "evalue": "\u001b[91mUndefVarError: degree not defined\u001b[39m",
     "output_type": "error",
     "traceback": [
      "\u001b[91mUndefVarError: degree not defined\u001b[39m",
      ""
     ]
    }
   ],
   "source": [
    "sp.degree(x)"
   ]
  },
  {
   "cell_type": "code",
   "execution_count": 3,
   "metadata": {
    "collapsed": false
   },
   "outputs": [
    {
     "data": {
      "text/plain": [
       "2-element Array{Any,1}:\n",
       " :y\n",
       " :x"
      ]
     },
     "execution_count": 3,
     "metadata": {},
     "output_type": "execute_result"
    }
   ],
   "source": [
    "t.shortest_common_supersequence((:x,), (:y,))"
   ]
  },
  {
   "cell_type": "code",
   "execution_count": null,
   "metadata": {
    "collapsed": true
   },
   "outputs": [],
   "source": []
  }
 ],
 "metadata": {
  "kernelspec": {
   "display_name": "Julia 0.6.0-pre.alpha",
   "language": "julia",
   "name": "julia-0.6"
  },
  "language_info": {
   "file_extension": ".jl",
   "mimetype": "application/julia",
   "name": "julia",
   "version": "0.6.0"
  }
 },
 "nbformat": 4,
 "nbformat_minor": 2
}

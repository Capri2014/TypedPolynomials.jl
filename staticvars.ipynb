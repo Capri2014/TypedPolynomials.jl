{
 "cells": [
  {
   "cell_type": "code",
   "execution_count": 1,
   "metadata": {
    "collapsed": false,
    "deletable": true,
    "editable": true
   },
   "outputs": [],
   "source": [
    "using BenchmarkTools\n",
    "using JuMP"
   ]
  },
  {
   "cell_type": "code",
   "execution_count": 2,
   "metadata": {
    "collapsed": false
   },
   "outputs": [],
   "source": [
    "import TypedPolynomials"
   ]
  },
  {
   "cell_type": "code",
   "execution_count": 97,
   "metadata": {
    "collapsed": false
   },
   "outputs": [
    {
     "name": "stderr",
     "output_type": "stream",
     "text": [
      "WARNING: replacing module TypedPolynomials\n"
     ]
    },
    {
     "data": {
      "text/plain": [
       "IJulia.TypedPolynomials"
      ]
     },
     "execution_count": 97,
     "metadata": {},
     "output_type": "execute_result"
    }
   ],
   "source": [
    "include(\"src/TypedPolynomials.jl\")\n",
    "t = TypedPolynomials"
   ]
  },
  {
   "cell_type": "code",
   "execution_count": 98,
   "metadata": {
    "collapsed": false
   },
   "outputs": [
    {
     "data": {
      "text/plain": [
       "z"
      ]
     },
     "execution_count": 98,
     "metadata": {},
     "output_type": "execute_result"
    }
   ],
   "source": [
    "t.@polyvar x y z"
   ]
  },
  {
   "cell_type": "code",
   "execution_count": 99,
   "metadata": {
    "collapsed": false
   },
   "outputs": [
    {
     "data": {
      "text/plain": [
       "1 + x"
      ]
     },
     "execution_count": 99,
     "metadata": {},
     "output_type": "execute_result"
    }
   ],
   "source": [
    "x + 1"
   ]
  },
  {
   "cell_type": "code",
   "execution_count": 100,
   "metadata": {
    "collapsed": false
   },
   "outputs": [
    {
     "data": {
      "text/plain": [
       "y + x^2"
      ]
     },
     "execution_count": 100,
     "metadata": {},
     "output_type": "execute_result"
    }
   ],
   "source": [
    "p = x^2 + y"
   ]
  },
  {
   "cell_type": "code",
   "execution_count": 101,
   "metadata": {
    "collapsed": false
   },
   "outputs": [
    {
     "data": {
      "text/plain": [
       "1 + 2x + x^2"
      ]
     },
     "execution_count": 101,
     "metadata": {},
     "output_type": "execute_result"
    }
   ],
   "source": [
    "x^2 + 2x + 1"
   ]
  },
  {
   "cell_type": "code",
   "execution_count": 102,
   "metadata": {
    "collapsed": false
   },
   "outputs": [
    {
     "data": {
      "text/plain": [
       "x + y^2 + x^2y"
      ]
     },
     "execution_count": 102,
     "metadata": {},
     "output_type": "execute_result"
    }
   ],
   "source": [
    "p = x^2 * y + y^2 + x"
   ]
  },
  {
   "cell_type": "code",
   "execution_count": 103,
   "metadata": {
    "collapsed": false
   },
   "outputs": [
    {
     "data": {
      "text/plain": [
       "4 + 16y + y^2"
      ]
     },
     "execution_count": 103,
     "metadata": {},
     "output_type": "execute_result"
    }
   ],
   "source": [
    "p(x=>4)"
   ]
  },
  {
   "cell_type": "code",
   "execution_count": 104,
   "metadata": {
    "collapsed": false
   },
   "outputs": [
    {
     "data": {
      "text/plain": [
       "z + y^2 + yz^2"
      ]
     },
     "execution_count": 104,
     "metadata": {},
     "output_type": "execute_result"
    }
   ],
   "source": [
    "t.subs(p, x=>z)"
   ]
  },
  {
   "cell_type": "code",
   "execution_count": 105,
   "metadata": {
    "collapsed": false,
    "deletable": true,
    "editable": true
   },
   "outputs": [
    {
     "data": {
      "text/plain": [
       "y + 3xy + 2x^2 + xy^2"
      ]
     },
     "execution_count": 105,
     "metadata": {},
     "output_type": "execute_result"
    }
   ],
   "source": [
    "p = x^2 + y + x * x + 3 * x * y + x * y^2"
   ]
  },
  {
   "cell_type": "code",
   "execution_count": 106,
   "metadata": {
    "collapsed": false
   },
   "outputs": [
    {
     "data": {
      "text/plain": [
       "4-element Array{IJulia.TypedPolynomials.Monomial{1,(x,)},1}:\n",
       " 1  \n",
       " x  \n",
       " x^2\n",
       " x^3"
      ]
     },
     "execution_count": 106,
     "metadata": {},
     "output_type": "execute_result"
    }
   ],
   "source": [
    "[x^i for i in 0:3]"
   ]
  },
  {
   "cell_type": "code",
   "execution_count": 107,
   "metadata": {
    "collapsed": false
   },
   "outputs": [
    {
     "data": {
      "text/plain": [
       "xy"
      ]
     },
     "execution_count": 107,
     "metadata": {},
     "output_type": "execute_result"
    }
   ],
   "source": [
    "m1 = x^2\n",
    "m2 = x * y"
   ]
  },
  {
   "cell_type": "code",
   "execution_count": 108,
   "metadata": {
    "collapsed": false
   },
   "outputs": [
    {
     "data": {
      "text/plain": [
       "false"
      ]
     },
     "execution_count": 108,
     "metadata": {},
     "output_type": "execute_result"
    }
   ],
   "source": [
    "m1 < m2"
   ]
  },
  {
   "cell_type": "code",
   "execution_count": 109,
   "metadata": {
    "collapsed": false
   },
   "outputs": [
    {
     "name": "stdout",
     "output_type": "stream",
     "text": [
      "Variables:\n",
      "  #self#::Base.#isless\n",
      "  m1::IJulia.TypedPolynomials.Monomial{1,(x,)}\n",
      "  m2::IJulia.TypedPolynomials.Monomial{2,(x, y)}\n",
      "\n",
      "Body:\n",
      "  begin \n",
      "      $(Expr(:inbounds, false))\n",
      "      # meta: location promotion.jl promote 174\n",
      "      # meta: location /Users/rdeits/.julia/v0.6/TypedPolynomials/src/TypedPolynomials.jl convert 96\n",
      "      # meta: location /Users/rdeits/.julia/v0.6/TypedPolynomials/src/TypedPolynomials.jl # line 107:\n",
      "      SSAValue(1) = $(Expr(:new, :($(QuoteNode(IJulia.TypedPolynomials.Monomial{2,(x, y)}))), :((Core.tuple)((Base.getfield)((Core.getfield)(m1, :exponents)::Tuple{Int64}, 1)::Int64, 0)::Tuple{Int64,Int64})))\n",
      "      # meta: pop location\n",
      "      # meta: pop location\n",
      "      # meta: location /Users/rdeits/.julia/v0.6/TypedPolynomials/src/TypedPolynomials.jl convert 96\n",
      "      # meta: location /Users/rdeits/.julia/v0.6/TypedPolynomials/src/TypedPolynomials.jl # line 107:\n",
      "      SSAValue(0) = $(Expr(:new, :($(QuoteNode(IJulia.TypedPolynomials.Monomial{2,(x, y)}))), :((Core.tuple)((Base.getfield)((Core.getfield)(m2, :exponents)::Tuple{Int64,Int64}, 1)::Int64, (Base.getfield)((Core.getfield)(m2, :exponents)::Tuple{Int64,Int64}, 2)::Int64)::Tuple{Int64,Int64})))\n",
      "      # meta: pop location\n",
      "      # meta: pop location\n",
      "      # meta: pop location\n",
      "      $(Expr(:inbounds, :pop))\n",
      "      return $(Expr(:invoke, MethodInstance for isless(::IJulia.TypedPolynomials.Monomial{2,(x, y)}, ::IJulia.TypedPolynomials.Monomial{2,(x, y)}), :(IJulia.TypedPolynomials.isless), SSAValue(1), SSAValue(0)))\n",
      "  end::Bool\n"
     ]
    }
   ],
   "source": [
    "@code_warntype Base.isless(m1, m2)"
   ]
  },
  {
   "cell_type": "code",
   "execution_count": 110,
   "metadata": {
    "collapsed": false
   },
   "outputs": [
    {
     "data": {
      "text/plain": [
       "BenchmarkTools.Trial: \n",
       "  memory estimate:  0 bytes\n",
       "  allocs estimate:  0\n",
       "  --------------\n",
       "  minimum time:     4.221 ns (0.00% GC)\n",
       "  median time:      4.340 ns (0.00% GC)\n",
       "  mean time:        4.793 ns (0.00% GC)\n",
       "  maximum time:     26.204 ns (0.00% GC)\n",
       "  --------------\n",
       "  samples:          10000\n",
       "  evals/sample:     1000\n",
       "  time tolerance:   5.00%\n",
       "  memory tolerance: 1.00%"
      ]
     },
     "execution_count": 110,
     "metadata": {},
     "output_type": "execute_result"
    }
   ],
   "source": [
    "@benchmark Base.isless($m1, $m2)"
   ]
  },
  {
   "cell_type": "code",
   "execution_count": 111,
   "metadata": {
    "collapsed": false,
    "deletable": true,
    "editable": true
   },
   "outputs": [
    {
     "data": {
      "text/plain": [
       "BenchmarkTools.Trial: \n",
       "  memory estimate:  720 bytes\n",
       "  allocs estimate:  8\n",
       "  --------------\n",
       "  minimum time:     309.714 ns (0.00% GC)\n",
       "  median time:      342.588 ns (0.00% GC)\n",
       "  mean time:        426.022 ns (14.01% GC)\n",
       "  maximum time:     12.636 μs (91.31% GC)\n",
       "  --------------\n",
       "  samples:          10000\n",
       "  evals/sample:     255\n",
       "  time tolerance:   5.00%\n",
       "  memory tolerance: 1.00%"
      ]
     },
     "execution_count": 111,
     "metadata": {},
     "output_type": "execute_result"
    }
   ],
   "source": [
    "@benchmark $x^2 + $y + $x * $x + 3 * $x * $y + $x * $y^2"
   ]
  },
  {
   "cell_type": "code",
   "execution_count": 112,
   "metadata": {
    "collapsed": false,
    "deletable": true,
    "editable": true
   },
   "outputs": [
    {
     "data": {
      "text/plain": [
       "BenchmarkTools.Trial: \n",
       "  memory estimate:  208 bytes\n",
       "  allocs estimate:  4\n",
       "  --------------\n",
       "  minimum time:     69.877 ns (0.00% GC)\n",
       "  median time:      74.264 ns (0.00% GC)\n",
       "  mean time:        104.470 ns (23.98% GC)\n",
       "  maximum time:     5.101 μs (93.32% GC)\n",
       "  --------------\n",
       "  samples:          10000\n",
       "  evals/sample:     976\n",
       "  time tolerance:   5.00%\n",
       "  memory tolerance: 1.00%"
      ]
     },
     "execution_count": 112,
     "metadata": {},
     "output_type": "execute_result"
    }
   ],
   "source": [
    "@benchmark $x^2 + $y"
   ]
  },
  {
   "cell_type": "code",
   "execution_count": null,
   "metadata": {
    "collapsed": true
   },
   "outputs": [],
   "source": []
  }
 ],
 "metadata": {
  "kernelspec": {
   "display_name": "Julia 0.6.0-pre.alpha",
   "language": "julia",
   "name": "julia-0.6"
  },
  "language_info": {
   "file_extension": ".jl",
   "mimetype": "application/julia",
   "name": "julia",
   "version": "0.6.0"
  }
 },
 "nbformat": 4,
 "nbformat_minor": 2
}

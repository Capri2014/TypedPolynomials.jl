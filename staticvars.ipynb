{
 "cells": [
  {
   "cell_type": "code",
   "execution_count": 1,
   "metadata": {
    "collapsed": false,
    "deletable": true,
    "editable": true,
    "scrolled": true
   },
   "outputs": [],
   "source": [
    "using BenchmarkTools"
   ]
  },
  {
   "cell_type": "code",
   "execution_count": 108,
   "metadata": {
    "collapsed": false,
    "deletable": true,
    "editable": true
   },
   "outputs": [
    {
     "name": "stderr",
     "output_type": "stream",
     "text": [
      "WARNING: replacing module TypedPolynomials\n"
     ]
    },
    {
     "data": {
      "text/plain": [
       "TypedPolynomials"
      ]
     },
     "execution_count": 108,
     "metadata": {},
     "output_type": "execute_result"
    }
   ],
   "source": [
    "include(\"src/TypedPolynomials.jl\")\n",
    "t = TypedPolynomials"
   ]
  },
  {
   "cell_type": "code",
   "execution_count": 109,
   "metadata": {
    "collapsed": false,
    "deletable": true,
    "editable": true
   },
   "outputs": [
    {
     "data": {
      "text/plain": [
       "z"
      ]
     },
     "execution_count": 109,
     "metadata": {},
     "output_type": "execute_result"
    }
   ],
   "source": [
    "t.@polyvar x y z"
   ]
  },
  {
   "cell_type": "code",
   "execution_count": 110,
   "metadata": {
    "collapsed": false
   },
   "outputs": [
    {
     "data": {
      "text/plain": [
       "x"
      ]
     },
     "execution_count": 110,
     "metadata": {},
     "output_type": "execute_result"
    }
   ],
   "source": [
    "p = t.Polynomial(x)"
   ]
  },
  {
   "cell_type": "code",
   "execution_count": 111,
   "metadata": {
    "collapsed": false
   },
   "outputs": [
    {
     "data": {
      "text/plain": [
       "Tuple{TypedPolynomials.Polynomial{TypedPolynomials.Term{Int64,TypedPolynomials.Monomial{2,(y, x)}},StaticArrays.SVector{1,TypedPolynomials.Term{Int64,TypedPolynomials.Monomial{2,(y, x)}}}},TypedPolynomials.Polynomial{TypedPolynomials.Term{Int64,TypedPolynomials.Monomial{2,(y, x)}},StaticArrays.SVector{1,TypedPolynomials.Term{Int64,TypedPolynomials.Monomial{2,(y, x)}}}}}"
      ]
     },
     "execution_count": 111,
     "metadata": {},
     "output_type": "execute_result"
    }
   ],
   "source": [
    "typeof(promote(p, y))"
   ]
  },
  {
   "cell_type": "code",
   "execution_count": 107,
   "metadata": {
    "collapsed": false
   },
   "outputs": [
    {
     "name": "stdout",
     "output_type": "stream",
     "text": [
      "Variables:\n",
      "  #self#::Base.#promote\n",
      "  x::TypedPolynomials.Polynomial{TypedPolynomials.Term{Int64,TypedPolynomials.Monomial{1,(x,)}},StaticArrays.SVector{1,TypedPolynomials.Term{Int64,TypedPolynomials.Monomial{1,(x,)}}}}\n",
      "  y::TypedPolynomials.Variable{:y}\n",
      "\n",
      "Body:\n",
      "  begin \n",
      "      $(Expr(:inbounds, false))\n",
      "      # meta: location /Users/rdeits/.julia/v0.6/TypedPolynomials/src/TypedPolynomials.jl convert 92\n",
      "      # meta: location /Users/rdeits/.julia/v0.6/StaticArrays/src/core.jl convert 69\n",
      "      # meta: location /Users/rdeits/.julia/v0.6/StaticArrays/src/SVector.jl Type 24\n",
      "      # meta: location /Users/rdeits/.julia/v0.6/StaticArrays/src/util.jl convert_ntuple 8\n",
      "      # meta: location /Users/rdeits/.julia/v0.6/StaticArrays/src/util.jl # line 11:\n",
      "      SSAValue(3) = (Base.getfield)((Core.getfield)((Core.getfield)(x::TypedPolynomials.Polynomial{TypedPolynomials.Term{Int64,TypedPolynomials.Monomial{1,(x,)}},StaticArrays.SVector{1,TypedPolynomials.Term{Int64,TypedPolynomials.Monomial{1,(x,)}}}}, :terms)::StaticArrays.SVector{1,TypedPolynomials.Term{Int64,TypedPolynomials.Monomial{1,(x,)}}}, :data)::Tuple{TypedPolynomials.Term{Int64,TypedPolynomials.Monomial{1,(x,)}}}, 1)::TypedPolynomials.Term{Int64,TypedPolynomials.Monomial{1,(x,)}}\n",
      "      # meta: location /Users/rdeits/.julia/v0.6/TypedPolynomials/src/TypedPolynomials.jl convert 115\n",
      "      SSAValue(6) = (Base.getfield)((Core.getfield)((Core.getfield)(SSAValue(3), :monomial)::TypedPolynomials.Monomial{1,(x,)}, :exponents)::Tuple{Int64}, 1)::Int64\n",
      "      # meta: pop location\n",
      "      SSAValue(2) = (Core.tuple)($(Expr(:new, :($(QuoteNode(TypedPolynomials.Term{Int64,TypedPolynomials.Monomial{2,(y, x)}}))), :((Core.getfield)(SSAValue(3), :coefficient)::Int64), :($(Expr(:new, :($(QuoteNode(TypedPolynomials.Monomial{2,(y, x)}))), :((Core.tuple)(0, SSAValue(6))::Tuple{Int64,Int64})))))))::Tuple{TypedPolynomials.Term{Int64,TypedPolynomials.Monomial{2,(y, x)}}}\n",
      "      # meta: pop location\n",
      "      # meta: pop location\n",
      "      # meta: pop location\n",
      "      # meta: pop location\n",
      "      # meta: pop location\n",
      "      $(Expr(:inbounds, :pop))\n",
      "      return (Core.tuple)($(Expr(:new, :($(QuoteNode(TypedPolynomials.Polynomial{TypedPolynomials.Term{Int64,TypedPolynomials.Monomial{2,(y, x)}},StaticArrays.SVector{1,TypedPolynomials.Term{Int64,TypedPolynomials.Monomial{2,(y, x)}}}}))), :($(Expr(:new, :($(QuoteNode(StaticArrays.SVector{1,TypedPolynomials.Term{Int64,TypedPolynomials.Monomial{2,(y, x)}}}))), SSAValue(2)))))), $(Expr(:new, :($(QuoteNode(TypedPolynomials.Polynomial{TypedPolynomials.Term{Int64,TypedPolynomials.Monomial{2,(y, x)}},StaticArrays.SVector{1,TypedPolynomials.Term{Int64,TypedPolynomials.Monomial{2,(y, x)}}}}))), :($(Expr(:new, :($(QuoteNode(StaticArrays.SVector{1,TypedPolynomials.Term{Int64,TypedPolynomials.Monomial{2,(y, x)}}}))), :((Core.tuple)($(Expr(:new, :($(QuoteNode(TypedPolynomials.Term{Int64,TypedPolynomials.Monomial{2,(y, x)}}))), 1, :($(Expr(:new, :($(QuoteNode(TypedPolynomials.Monomial{2,(y, x)}))), :((Core.tuple)(1, 0)::Tuple{Int64,Int64})))))))::Tuple{TypedPolynomials.Term{Int64,TypedPolynomials.Monomial{2,(y, x)}}})))))))::Tuple{TypedPolynomials.Polynomial{TypedPolynomials.Term{Int64,TypedPolynomials.Monomial{2,(y, x)}},StaticArrays.SVector{1,TypedPolynomials.Term{Int64,TypedPolynomials.Monomial{2,(y, x)}}}},TypedPolynomials.Polynomial{TypedPolynomials.Term{Int64,TypedPolynomials.Monomial{2,(y, x)}},StaticArrays.SVector{1,TypedPolynomials.Term{Int64,TypedPolynomials.Monomial{2,(y, x)}}}}}\n",
      "  end::Tuple{TypedPolynomials.Polynomial{TypedPolynomials.Term{Int64,TypedPolynomials.Monomial{2,(y, x)}},StaticArrays.SVector{1,TypedPolynomials.Term{Int64,TypedPolynomials.Monomial{2,(y, x)}}}},TypedPolynomials.Polynomial{TypedPolynomials.Term{Int64,TypedPolynomials.Monomial{2,(y, x)}},StaticArrays.SVector{1,TypedPolynomials.Term{Int64,TypedPolynomials.Monomial{2,(y, x)}}}}}\n"
     ]
    },
    {
     "data": {
      "text/plain": [
       "BenchmarkTools.Trial: \n",
       "  memory estimate:  0 bytes\n",
       "  allocs estimate:  0\n",
       "  --------------\n",
       "  minimum time:     2.260 ns (0.00% GC)\n",
       "  median time:      2.264 ns (0.00% GC)\n",
       "  mean time:        2.562 ns (0.00% GC)\n",
       "  maximum time:     14.063 ns (0.00% GC)\n",
       "  --------------\n",
       "  samples:          10000\n",
       "  evals/sample:     1000\n",
       "  time tolerance:   5.00%\n",
       "  memory tolerance: 1.00%"
      ]
     },
     "execution_count": 107,
     "metadata": {},
     "output_type": "execute_result"
    }
   ],
   "source": [
    "@code_warntype promote(p, y)\n",
    "@benchmark promote($p, $y)"
   ]
  },
  {
   "cell_type": "code",
   "execution_count": 92,
   "metadata": {
    "collapsed": false
   },
   "outputs": [
    {
     "data": {
      "text/plain": [
       "(x, y)"
      ]
     },
     "execution_count": 92,
     "metadata": {},
     "output_type": "execute_result"
    }
   ],
   "source": [
    "promote(x, y)"
   ]
  },
  {
   "cell_type": "code",
   "execution_count": 93,
   "metadata": {
    "collapsed": false
   },
   "outputs": [
    {
     "data": {
      "text/plain": [
       "(x, y)"
      ]
     },
     "execution_count": 93,
     "metadata": {},
     "output_type": "execute_result"
    }
   ],
   "source": [
    "promote(p, y)"
   ]
  },
  {
   "cell_type": "code",
   "execution_count": 70,
   "metadata": {
    "collapsed": false
   },
   "outputs": [
    {
     "data": {
      "text/plain": [
       "(x, 2y)"
      ]
     },
     "execution_count": 70,
     "metadata": {},
     "output_type": "execute_result"
    }
   ],
   "source": [
    "promote(x, 2y)"
   ]
  },
  {
   "cell_type": "code",
   "execution_count": 71,
   "metadata": {
    "collapsed": false
   },
   "outputs": [
    {
     "data": {
      "text/plain": [
       "(3x, 2y)"
      ]
     },
     "execution_count": 71,
     "metadata": {},
     "output_type": "execute_result"
    }
   ],
   "source": [
    "promote(3x, 2y)"
   ]
  },
  {
   "cell_type": "code",
   "execution_count": 33,
   "metadata": {
    "collapsed": false
   },
   "outputs": [
    {
     "data": {
      "text/html": [
       "promote<i>{T, S}</i>(x::<b>T</b>, y::<b>S</b>) at <a href=\"https://github.com/JuliaLang/julia/tree/a2e714b3a6e278e749a522cc481991fbb06fb765/base/promotion.jl#L174\" target=\"_blank\">promotion.jl:174</a>"
      ],
      "text/plain": [
       "promote(x::T, y::S) where {T, S} in Base at promotion.jl:174"
      ]
     },
     "execution_count": 33,
     "metadata": {},
     "output_type": "execute_result"
    }
   ],
   "source": [
    "@which promote(x, 2y)"
   ]
  },
  {
   "cell_type": "code",
   "execution_count": 32,
   "metadata": {
    "collapsed": false
   },
   "outputs": [
    {
     "data": {
      "text/plain": [
       "(1, 2)"
      ]
     },
     "execution_count": 32,
     "metadata": {},
     "output_type": "execute_result"
    }
   ],
   "source": [
    "t1, t2 = promote(x, 2y)"
   ]
  },
  {
   "cell_type": "code",
   "execution_count": 23,
   "metadata": {
    "collapsed": false
   },
   "outputs": [
    {
     "data": {
      "text/plain": [
       "(y, x)"
      ]
     },
     "execution_count": 23,
     "metadata": {},
     "output_type": "execute_result"
    }
   ],
   "source": [
    "t.variables(t1.monomial)"
   ]
  },
  {
   "cell_type": "code",
   "execution_count": 24,
   "metadata": {
    "collapsed": false
   },
   "outputs": [
    {
     "data": {
      "text/plain": [
       "(0, 0)"
      ]
     },
     "execution_count": 24,
     "metadata": {},
     "output_type": "execute_result"
    }
   ],
   "source": [
    "t1.monomial.exponents"
   ]
  },
  {
   "cell_type": "code",
   "execution_count": 20,
   "metadata": {
    "collapsed": false
   },
   "outputs": [
    {
     "data": {
      "text/plain": [
       "Tuple{TypedPolynomials.Term{Int64,TypedPolynomials.Monomial{2,(y, x)}},TypedPolynomials.Term{Int64,TypedPolynomials.Monomial{2,(y, x)}}}"
      ]
     },
     "execution_count": 20,
     "metadata": {},
     "output_type": "execute_result"
    }
   ],
   "source": [
    "typeof(promote(x, 2y))"
   ]
  },
  {
   "cell_type": "code",
   "execution_count": 4,
   "metadata": {
    "collapsed": false
   },
   "outputs": [
    {
     "data": {
      "text/plain": [
       "(x, y)"
      ]
     },
     "execution_count": 4,
     "metadata": {},
     "output_type": "execute_result"
    }
   ],
   "source": [
    "promote(x, y)"
   ]
  },
  {
   "cell_type": "code",
   "execution_count": 5,
   "metadata": {
    "collapsed": false
   },
   "outputs": [
    {
     "data": {
      "text/plain": [
       "Tuple{TypedPolynomials.Monomial{2,(x, y)},TypedPolynomials.Monomial{2,(x, y)}}"
      ]
     },
     "execution_count": 5,
     "metadata": {},
     "output_type": "execute_result"
    }
   ],
   "source": [
    "typeof(promote(x, y))"
   ]
  },
  {
   "cell_type": "code",
   "execution_count": 6,
   "metadata": {
    "collapsed": false
   },
   "outputs": [
    {
     "data": {
      "text/plain": [
       "y"
      ]
     },
     "execution_count": 6,
     "metadata": {},
     "output_type": "execute_result"
    }
   ],
   "source": [
    "convert(t.Monomial{2, (x, y)}, y)"
   ]
  },
  {
   "cell_type": "code",
   "execution_count": 122,
   "metadata": {
    "collapsed": false
   },
   "outputs": [
    {
     "name": "stdout",
     "output_type": "stream",
     "text": [
      "Variables:\n",
      "  #self#\u001b[1m\u001b[91m::Any\u001b[39m\u001b[22m\n",
      "  v::TypedPolynomials.Variable{:x}\n",
      "\n",
      "Body:\n",
      "  begin \n",
      "      return $(Expr(:new, :($(QuoteNode(TypedPolynomials.Monomial{1,(x,)}))), :((Core.tuple)(1)::Tuple{Int64})))\n",
      "  end::TypedPolynomials.Monomial{1,(x,)}\n"
     ]
    }
   ],
   "source": [
    "@code_warntype t.Monomial(x)"
   ]
  },
  {
   "cell_type": "code",
   "execution_count": 98,
   "metadata": {
    "collapsed": false
   },
   "outputs": [
    {
     "data": {
      "text/plain": [
       "(x, y)"
      ]
     },
     "execution_count": 98,
     "metadata": {},
     "output_type": "execute_result"
    }
   ],
   "source": [
    "promote(x, y)"
   ]
  },
  {
   "cell_type": "code",
   "execution_count": 68,
   "metadata": {
    "collapsed": false
   },
   "outputs": [
    {
     "data": {
      "text/plain": [
       "TypedPolynomials.Monomial{2,(x, y)}"
      ]
     },
     "execution_count": 68,
     "metadata": {},
     "output_type": "execute_result"
    }
   ],
   "source": [
    "promote_type(typeof(x), typeof(y))"
   ]
  },
  {
   "cell_type": "code",
   "execution_count": 71,
   "metadata": {
    "collapsed": false
   },
   "outputs": [
    {
     "data": {
      "text/plain": [
       "TypedPolynomials.Monomial{1,(x,)}"
      ]
     },
     "execution_count": 71,
     "metadata": {},
     "output_type": "execute_result"
    }
   ],
   "source": [
    "typeof(convert(t.Monomial{2, (x, y)}, x))"
   ]
  },
  {
   "cell_type": "code",
   "execution_count": 72,
   "metadata": {
    "collapsed": false
   },
   "outputs": [
    {
     "name": "stdout",
     "output_type": "stream",
     "text": [
      "search: \u001b[1mf\u001b[22m\u001b[1mi\u001b[22m\u001b[1mn\u001b[22m\u001b[1md\u001b[22m\u001b[1mf\u001b[22m\u001b[1mi\u001b[22m\u001b[1mr\u001b[22m\u001b[1ms\u001b[22m\u001b[1mt\u001b[22m\n",
      "\n"
     ]
    },
    {
     "data": {
      "text/markdown": [
       "```\n",
       "findfirst(A)\n",
       "```\n",
       "\n",
       "Return the linear index of the first non-zero value in `A` (determined by `A[i]!=0`). Returns `0` if no such value is found.\n",
       "\n",
       "```jldoctest\n",
       "julia> A = [0 0; 1 0]\n",
       "2×2 Array{Int64,2}:\n",
       " 0  0\n",
       " 1  0\n",
       "\n",
       "julia> findfirst(A)\n",
       "2\n",
       "```\n",
       "\n",
       "```\n",
       "findfirst(A, v)\n",
       "```\n",
       "\n",
       "Return the linear index of the first element equal to `v` in `A`. Returns `0` if `v` is not found.\n",
       "\n",
       "```jldoctest\n",
       "julia> A = [4 6; 2 2]\n",
       "2×2 Array{Int64,2}:\n",
       " 4  6\n",
       " 2  2\n",
       "\n",
       "julia> findfirst(A,2)\n",
       "2\n",
       "\n",
       "julia> findfirst(A,3)\n",
       "0\n",
       "```\n",
       "\n",
       "```\n",
       "findfirst(predicate::Function, A)\n",
       "```\n",
       "\n",
       "Return the linear index of the first element of `A` for which `predicate` returns `true`. Returns `0` if there is no such element.\n",
       "\n",
       "```jldoctest\n",
       "julia> A = [1 4; 2 2]\n",
       "2×2 Array{Int64,2}:\n",
       " 1  4\n",
       " 2  2\n",
       "\n",
       "julia> findfirst(iseven, A)\n",
       "2\n",
       "\n",
       "julia> findfirst(x -> x>10, A)\n",
       "0\n",
       "```\n"
      ],
      "text/plain": [
       "```\n",
       "findfirst(A)\n",
       "```\n",
       "\n",
       "Return the linear index of the first non-zero value in `A` (determined by `A[i]!=0`). Returns `0` if no such value is found.\n",
       "\n",
       "```jldoctest\n",
       "julia> A = [0 0; 1 0]\n",
       "2×2 Array{Int64,2}:\n",
       " 0  0\n",
       " 1  0\n",
       "\n",
       "julia> findfirst(A)\n",
       "2\n",
       "```\n",
       "\n",
       "```\n",
       "findfirst(A, v)\n",
       "```\n",
       "\n",
       "Return the linear index of the first element equal to `v` in `A`. Returns `0` if `v` is not found.\n",
       "\n",
       "```jldoctest\n",
       "julia> A = [4 6; 2 2]\n",
       "2×2 Array{Int64,2}:\n",
       " 4  6\n",
       " 2  2\n",
       "\n",
       "julia> findfirst(A,2)\n",
       "2\n",
       "\n",
       "julia> findfirst(A,3)\n",
       "0\n",
       "```\n",
       "\n",
       "```\n",
       "findfirst(predicate::Function, A)\n",
       "```\n",
       "\n",
       "Return the linear index of the first element of `A` for which `predicate` returns `true`. Returns `0` if there is no such element.\n",
       "\n",
       "```jldoctest\n",
       "julia> A = [1 4; 2 2]\n",
       "2×2 Array{Int64,2}:\n",
       " 1  4\n",
       " 2  2\n",
       "\n",
       "julia> findfirst(iseven, A)\n",
       "2\n",
       "\n",
       "julia> findfirst(x -> x>10, A)\n",
       "0\n",
       "```\n"
      ]
     },
     "execution_count": 72,
     "metadata": {},
     "output_type": "execute_result"
    }
   ],
   "source": [
    "?findfirst"
   ]
  },
  {
   "cell_type": "code",
   "execution_count": 69,
   "metadata": {
    "collapsed": false
   },
   "outputs": [
    {
     "data": {
      "text/html": [
       "promote<i>{T, S}</i>(x::<b>T</b>, y::<b>S</b>) at <a href=\"https://github.com/JuliaLang/julia/tree/4eb8c0613a47a2d03518217a207a5af7a06bfdce/base/promotion.jl#L174\" target=\"_blank\">promotion.jl:174</a>"
      ],
      "text/plain": [
       "promote(x::T, y::S) where {T, S} in Base at promotion.jl:174"
      ]
     },
     "execution_count": 69,
     "metadata": {},
     "output_type": "execute_result"
    }
   ],
   "source": [
    "@which promote(x, y)"
   ]
  },
  {
   "cell_type": "code",
   "execution_count": 67,
   "metadata": {
    "collapsed": false
   },
   "outputs": [
    {
     "data": {
      "text/plain": [
       "Tuple{TypedPolynomials.Monomial{1,(x,)},TypedPolynomials.Monomial{1,(y,)}}"
      ]
     },
     "execution_count": 67,
     "metadata": {},
     "output_type": "execute_result"
    }
   ],
   "source": [
    "typeof(promote(x, y))"
   ]
  },
  {
   "cell_type": "code",
   "execution_count": 28,
   "metadata": {
    "collapsed": false
   },
   "outputs": [
    {
     "data": {
      "text/plain": [
       "f (generic function with 2 methods)"
      ]
     },
     "execution_count": 28,
     "metadata": {},
     "output_type": "execute_result"
    }
   ],
   "source": [
    "f(x) = x^2 + x"
   ]
  },
  {
   "cell_type": "code",
   "execution_count": 29,
   "metadata": {
    "collapsed": false
   },
   "outputs": [
    {
     "data": {
      "text/plain": [
       "f (generic function with 2 methods)"
      ]
     },
     "execution_count": 29,
     "metadata": {},
     "output_type": "execute_result"
    }
   ],
   "source": [
    "f(x) = @allocated x^2 + x"
   ]
  },
  {
   "cell_type": "code",
   "execution_count": 46,
   "metadata": {
    "collapsed": false
   },
   "outputs": [
    {
     "data": {
      "text/plain": [
       "2-element Array{Tuple{Int64},1}:\n",
       " (1,)\n",
       " (2,)"
      ]
     },
     "execution_count": 46,
     "metadata": {},
     "output_type": "execute_result"
    }
   ],
   "source": [
    "vcat((1,), (2,))"
   ]
  },
  {
   "cell_type": "code",
   "execution_count": null,
   "metadata": {
    "collapsed": true
   },
   "outputs": [],
   "source": [
    "searchsorted"
   ]
  },
  {
   "cell_type": "code",
   "execution_count": 31,
   "metadata": {
    "collapsed": false
   },
   "outputs": [
    {
     "data": {
      "text/plain": [
       "192"
      ]
     },
     "execution_count": 31,
     "metadata": {},
     "output_type": "execute_result"
    }
   ],
   "source": [
    "f(x)"
   ]
  },
  {
   "cell_type": "code",
   "execution_count": 32,
   "metadata": {
    "collapsed": false
   },
   "outputs": [
    {
     "data": {
      "text/plain": [
       "testmonomials (generic function with 1 method)"
      ]
     },
     "execution_count": 32,
     "metadata": {},
     "output_type": "execute_result"
    }
   ],
   "source": [
    "\n",
    "function testmonomials(var, degree)\n",
    "    [var^i for i in 0:degree]\n",
    "end"
   ]
  },
  {
   "cell_type": "code",
   "execution_count": 35,
   "metadata": {
    "collapsed": false
   },
   "outputs": [
    {
     "data": {
      "text/plain": [
       "f (generic function with 2 methods)"
      ]
     },
     "execution_count": 35,
     "metadata": {},
     "output_type": "execute_result"
    }
   ],
   "source": [
    "f(x) = @allocated testmonomials(x, 3)"
   ]
  },
  {
   "cell_type": "code",
   "execution_count": 37,
   "metadata": {
    "collapsed": false
   },
   "outputs": [
    {
     "data": {
      "text/plain": [
       "112"
      ]
     },
     "execution_count": 37,
     "metadata": {},
     "output_type": "execute_result"
    }
   ],
   "source": [
    "f(x)"
   ]
  },
  {
   "cell_type": "code",
   "execution_count": 40,
   "metadata": {
    "collapsed": false
   },
   "outputs": [
    {
     "data": {
      "text/plain": [
       "26.0"
      ]
     },
     "execution_count": 40,
     "metadata": {},
     "output_type": "execute_result"
    }
   ],
   "source": [
    "(f(x) - sizeof(Int)) / 4"
   ]
  },
  {
   "cell_type": "code",
   "execution_count": 41,
   "metadata": {
    "collapsed": false
   },
   "outputs": [
    {
     "data": {
      "text/plain": [
       "8"
      ]
     },
     "execution_count": 41,
     "metadata": {},
     "output_type": "execute_result"
    }
   ],
   "source": [
    "sizeof(x^2)"
   ]
  },
  {
   "cell_type": "code",
   "execution_count": 43,
   "metadata": {
    "collapsed": false
   },
   "outputs": [
    {
     "data": {
      "text/plain": [
       "8"
      ]
     },
     "execution_count": 43,
     "metadata": {},
     "output_type": "execute_result"
    }
   ],
   "source": [
    "sizeof(eltype(testmonomials(x, 3)))"
   ]
  },
  {
   "cell_type": "markdown",
   "metadata": {},
   "source": [
    "sizeof(Int)"
   ]
  },
  {
   "cell_type": "markdown",
   "metadata": {},
   "source": [
    "@allocated f(x)"
   ]
  },
  {
   "cell_type": "code",
   "execution_count": 17,
   "metadata": {
    "collapsed": false
   },
   "outputs": [
    {
     "data": {
      "text/plain": [
       "0"
      ]
     },
     "execution_count": 17,
     "metadata": {},
     "output_type": "execute_result"
    }
   ],
   "source": [
    "begin\n",
    "    function f(x)\n",
    "        t.@polyvar x\n",
    "        x^2\n",
    "    end\n",
    "    @allocated f()\n",
    "end"
   ]
  },
  {
   "cell_type": "code",
   "execution_count": 16,
   "metadata": {
    "collapsed": false
   },
   "outputs": [
    {
     "data": {
      "text/plain": [
       "0"
      ]
     },
     "execution_count": 16,
     "metadata": {},
     "output_type": "execute_result"
    }
   ],
   "source": [
    "@allocated f()"
   ]
  },
  {
   "cell_type": "code",
   "execution_count": 10,
   "metadata": {
    "collapsed": false
   },
   "outputs": [
    {
     "data": {
      "text/plain": [
       "16"
      ]
     },
     "execution_count": 10,
     "metadata": {},
     "output_type": "execute_result"
    }
   ],
   "source": [
    "@allocated x^2"
   ]
  },
  {
   "cell_type": "code",
   "execution_count": 99,
   "metadata": {
    "collapsed": false,
    "deletable": true,
    "editable": true
   },
   "outputs": [
    {
     "data": {
      "text/plain": [
       "1 + x"
      ]
     },
     "execution_count": 99,
     "metadata": {},
     "output_type": "execute_result"
    }
   ],
   "source": [
    "x + 1"
   ]
  },
  {
   "cell_type": "code",
   "execution_count": 100,
   "metadata": {
    "collapsed": false,
    "deletable": true,
    "editable": true
   },
   "outputs": [
    {
     "data": {
      "text/plain": [
       "y + x^2"
      ]
     },
     "execution_count": 100,
     "metadata": {},
     "output_type": "execute_result"
    }
   ],
   "source": [
    "p = x^2 + y"
   ]
  },
  {
   "cell_type": "code",
   "execution_count": 101,
   "metadata": {
    "collapsed": false,
    "deletable": true,
    "editable": true
   },
   "outputs": [
    {
     "data": {
      "text/plain": [
       "1 + 2x + x^2"
      ]
     },
     "execution_count": 101,
     "metadata": {},
     "output_type": "execute_result"
    }
   ],
   "source": [
    "x^2 + 2x + 1"
   ]
  },
  {
   "cell_type": "code",
   "execution_count": 102,
   "metadata": {
    "collapsed": false,
    "deletable": true,
    "editable": true
   },
   "outputs": [
    {
     "data": {
      "text/plain": [
       "x + y^2 + x^2y"
      ]
     },
     "execution_count": 102,
     "metadata": {},
     "output_type": "execute_result"
    }
   ],
   "source": [
    "p = x^2 * y + y^2 + x"
   ]
  },
  {
   "cell_type": "code",
   "execution_count": 103,
   "metadata": {
    "collapsed": false,
    "deletable": true,
    "editable": true
   },
   "outputs": [
    {
     "data": {
      "text/plain": [
       "4 + 16y + y^2"
      ]
     },
     "execution_count": 103,
     "metadata": {},
     "output_type": "execute_result"
    }
   ],
   "source": [
    "p(x=>4)"
   ]
  },
  {
   "cell_type": "code",
   "execution_count": 104,
   "metadata": {
    "collapsed": false,
    "deletable": true,
    "editable": true
   },
   "outputs": [
    {
     "data": {
      "text/plain": [
       "z + y^2 + yz^2"
      ]
     },
     "execution_count": 104,
     "metadata": {},
     "output_type": "execute_result"
    }
   ],
   "source": [
    "t.subs(p, x=>z)"
   ]
  },
  {
   "cell_type": "code",
   "execution_count": 105,
   "metadata": {
    "collapsed": false,
    "deletable": true,
    "editable": true
   },
   "outputs": [
    {
     "data": {
      "text/plain": [
       "y + 3xy + 2x^2 + xy^2"
      ]
     },
     "execution_count": 105,
     "metadata": {},
     "output_type": "execute_result"
    }
   ],
   "source": [
    "p = x^2 + y + x * x + 3 * x * y + x * y^2"
   ]
  },
  {
   "cell_type": "code",
   "execution_count": 106,
   "metadata": {
    "collapsed": false,
    "deletable": true,
    "editable": true
   },
   "outputs": [
    {
     "data": {
      "text/plain": [
       "4-element Array{IJulia.TypedPolynomials.Monomial{1,(x,)},1}:\n",
       " 1  \n",
       " x  \n",
       " x^2\n",
       " x^3"
      ]
     },
     "execution_count": 106,
     "metadata": {},
     "output_type": "execute_result"
    }
   ],
   "source": [
    "[x^i for i in 0:3]"
   ]
  },
  {
   "cell_type": "code",
   "execution_count": 107,
   "metadata": {
    "collapsed": false,
    "deletable": true,
    "editable": true
   },
   "outputs": [
    {
     "data": {
      "text/plain": [
       "xy"
      ]
     },
     "execution_count": 107,
     "metadata": {},
     "output_type": "execute_result"
    }
   ],
   "source": [
    "m1 = x^2\n",
    "m2 = x * y"
   ]
  },
  {
   "cell_type": "code",
   "execution_count": 108,
   "metadata": {
    "collapsed": false,
    "deletable": true,
    "editable": true
   },
   "outputs": [
    {
     "data": {
      "text/plain": [
       "false"
      ]
     },
     "execution_count": 108,
     "metadata": {},
     "output_type": "execute_result"
    }
   ],
   "source": [
    "m1 < m2"
   ]
  },
  {
   "cell_type": "code",
   "execution_count": 109,
   "metadata": {
    "collapsed": false,
    "deletable": true,
    "editable": true
   },
   "outputs": [
    {
     "name": "stdout",
     "output_type": "stream",
     "text": [
      "Variables:\n",
      "  #self#::Base.#isless\n",
      "  m1::IJulia.TypedPolynomials.Monomial{1,(x,)}\n",
      "  m2::IJulia.TypedPolynomials.Monomial{2,(x, y)}\n",
      "\n",
      "Body:\n",
      "  begin \n",
      "      $(Expr(:inbounds, false))\n",
      "      # meta: location promotion.jl promote 174\n",
      "      # meta: location /Users/rdeits/.julia/v0.6/TypedPolynomials/src/TypedPolynomials.jl convert 96\n",
      "      # meta: location /Users/rdeits/.julia/v0.6/TypedPolynomials/src/TypedPolynomials.jl # line 107:\n",
      "      SSAValue(1) = $(Expr(:new, :($(QuoteNode(IJulia.TypedPolynomials.Monomial{2,(x, y)}))), :((Core.tuple)((Base.getfield)((Core.getfield)(m1, :exponents)::Tuple{Int64}, 1)::Int64, 0)::Tuple{Int64,Int64})))\n",
      "      # meta: pop location\n",
      "      # meta: pop location\n",
      "      # meta: location /Users/rdeits/.julia/v0.6/TypedPolynomials/src/TypedPolynomials.jl convert 96\n",
      "      # meta: location /Users/rdeits/.julia/v0.6/TypedPolynomials/src/TypedPolynomials.jl # line 107:\n",
      "      SSAValue(0) = $(Expr(:new, :($(QuoteNode(IJulia.TypedPolynomials.Monomial{2,(x, y)}))), :((Core.tuple)((Base.getfield)((Core.getfield)(m2, :exponents)::Tuple{Int64,Int64}, 1)::Int64, (Base.getfield)((Core.getfield)(m2, :exponents)::Tuple{Int64,Int64}, 2)::Int64)::Tuple{Int64,Int64})))\n",
      "      # meta: pop location\n",
      "      # meta: pop location\n",
      "      # meta: pop location\n",
      "      $(Expr(:inbounds, :pop))\n",
      "      return $(Expr(:invoke, MethodInstance for isless(::IJulia.TypedPolynomials.Monomial{2,(x, y)}, ::IJulia.TypedPolynomials.Monomial{2,(x, y)}), :(IJulia.TypedPolynomials.isless), SSAValue(1), SSAValue(0)))\n",
      "  end::Bool\n"
     ]
    }
   ],
   "source": [
    "@code_warntype Base.isless(m1, m2)"
   ]
  },
  {
   "cell_type": "code",
   "execution_count": 110,
   "metadata": {
    "collapsed": false,
    "deletable": true,
    "editable": true
   },
   "outputs": [
    {
     "data": {
      "text/plain": [
       "BenchmarkTools.Trial: \n",
       "  memory estimate:  0 bytes\n",
       "  allocs estimate:  0\n",
       "  --------------\n",
       "  minimum time:     4.221 ns (0.00% GC)\n",
       "  median time:      4.340 ns (0.00% GC)\n",
       "  mean time:        4.793 ns (0.00% GC)\n",
       "  maximum time:     26.204 ns (0.00% GC)\n",
       "  --------------\n",
       "  samples:          10000\n",
       "  evals/sample:     1000\n",
       "  time tolerance:   5.00%\n",
       "  memory tolerance: 1.00%"
      ]
     },
     "execution_count": 110,
     "metadata": {},
     "output_type": "execute_result"
    }
   ],
   "source": [
    "@benchmark Base.isless($m1, $m2)"
   ]
  },
  {
   "cell_type": "code",
   "execution_count": 111,
   "metadata": {
    "collapsed": false,
    "deletable": true,
    "editable": true
   },
   "outputs": [
    {
     "data": {
      "text/plain": [
       "BenchmarkTools.Trial: \n",
       "  memory estimate:  720 bytes\n",
       "  allocs estimate:  8\n",
       "  --------------\n",
       "  minimum time:     309.714 ns (0.00% GC)\n",
       "  median time:      342.588 ns (0.00% GC)\n",
       "  mean time:        426.022 ns (14.01% GC)\n",
       "  maximum time:     12.636 μs (91.31% GC)\n",
       "  --------------\n",
       "  samples:          10000\n",
       "  evals/sample:     255\n",
       "  time tolerance:   5.00%\n",
       "  memory tolerance: 1.00%"
      ]
     },
     "execution_count": 111,
     "metadata": {},
     "output_type": "execute_result"
    }
   ],
   "source": [
    "@benchmark $x^2 + $y + $x * $x + 3 * $x * $y + $x * $y^2"
   ]
  },
  {
   "cell_type": "code",
   "execution_count": 112,
   "metadata": {
    "collapsed": false,
    "deletable": true,
    "editable": true
   },
   "outputs": [
    {
     "data": {
      "text/plain": [
       "BenchmarkTools.Trial: \n",
       "  memory estimate:  208 bytes\n",
       "  allocs estimate:  4\n",
       "  --------------\n",
       "  minimum time:     69.877 ns (0.00% GC)\n",
       "  median time:      74.264 ns (0.00% GC)\n",
       "  mean time:        104.470 ns (23.98% GC)\n",
       "  maximum time:     5.101 μs (93.32% GC)\n",
       "  --------------\n",
       "  samples:          10000\n",
       "  evals/sample:     976\n",
       "  time tolerance:   5.00%\n",
       "  memory tolerance: 1.00%"
      ]
     },
     "execution_count": 112,
     "metadata": {},
     "output_type": "execute_result"
    }
   ],
   "source": [
    "@benchmark $x^2 + $y"
   ]
  },
  {
   "cell_type": "code",
   "execution_count": null,
   "metadata": {
    "collapsed": true,
    "deletable": true,
    "editable": true
   },
   "outputs": [],
   "source": []
  }
 ],
 "metadata": {
  "kernelspec": {
   "display_name": "Julia 0.6.0-pre.alpha",
   "language": "julia",
   "name": "julia-0.6"
  },
  "language_info": {
   "file_extension": ".jl",
   "mimetype": "application/julia",
   "name": "julia",
   "version": "0.6.0"
  }
 },
 "nbformat": 4,
 "nbformat_minor": 2
}
